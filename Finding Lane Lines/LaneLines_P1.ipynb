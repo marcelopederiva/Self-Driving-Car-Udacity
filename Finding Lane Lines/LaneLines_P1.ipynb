{
 "cells": [
  {
   "cell_type": "code",
   "execution_count": 2,
   "metadata": {
    "scrolled": true
   },
   "outputs": [
    {
     "name": "stdout",
     "output_type": "stream",
     "text": [
      "[MoviePy] >>>> Building video test_videos_output/12.mp4\n",
      "[MoviePy] Writing video test_videos_output/12.mp4\n"
     ]
    },
    {
     "name": "stderr",
     "output_type": "stream",
     "text": [
      "100%|███████████████████████████████████████████████████████████████████████████████▋| 221/222 [00:02<00:00, 86.02it/s]\n"
     ]
    },
    {
     "name": "stdout",
     "output_type": "stream",
     "text": [
      "[MoviePy] Done.\n",
      "[MoviePy] >>>> Video ready: test_videos_output/12.mp4 \n",
      "\n",
      "Wall time: 2.86 s\n"
     ]
    },
    {
     "data": {
      "text/html": [
       "\n",
       "<video width=\"960\" height=\"540\" controls>\n",
       "  <source src=\"test_videos_output/12.mp4\">\n",
       "</video>\n"
      ],
      "text/plain": [
       "<IPython.core.display.HTML object>"
      ]
     },
     "execution_count": 2,
     "metadata": {},
     "output_type": "execute_result"
    }
   ],
   "source": [
    "import matplotlib.pyplot as plt\n",
    "import matplotlib.image as mpimg\n",
    "import numpy as np\n",
    "import math\n",
    "import cv2\n",
    "import os\n",
    "import imageio\n",
    "\n",
    "from moviepy.editor import VideoFileClip\n",
    "from IPython.display import HTML\n",
    "\n",
    "%matplotlib inline\n",
    "\n",
    "def process_image(image):\n",
    "    kernel_size = 7\n",
    "\n",
    "    low_threshold = 50\n",
    "    high_threshold = 200\n",
    "\n",
    "    imshape = image.shape\n",
    "    vertices = np.array([[(0,imshape[0]),(int(imshape[1]/2)-50, 330),(int(imshape[1]/2)+50, 330), (imshape[1],imshape[0])]], dtype=np.int32)\n",
    "\n",
    "    rho = 1\n",
    "    theta = np.pi/180\n",
    "    threshold = 15\n",
    "    min_line_len = 100\n",
    "    max_line_gap = 150\n",
    "\n",
    "\n",
    "    gray = grayscale(image)\n",
    "    gb= gaussian_blur(gray,kernel_size)\n",
    "    can = canny(gb, low_threshold,high_threshold)\n",
    "    ri = region_of_interest(can,vertices)\n",
    "    hl = hough_lines(ri, rho, theta, threshold, min_line_len, max_line_gap)\n",
    "    wi = weighted_img(hl, image, 0.8, 1.0, 0)\n",
    "  \n",
    "    return wi\n",
    "\n",
    "def grayscale(img):\n",
    "    return cv2.cvtColor(img,cv2.COLOR_RGB2GRAY)\n",
    "\n",
    "def canny(img, low_threshold, high_threshold):\n",
    "    return cv2.Canny(img, low_threshold, high_threshold)\n",
    "\n",
    "def gaussian_blur(img,kernel_size):\n",
    "    return cv2.GaussianBlur(img,(kernel_size,kernel_size),0)\n",
    "\n",
    "def region_of_interest(img,vertices):\n",
    "    mask = np.zeros_like(img)\n",
    "    if len(img.shape)>2:\n",
    "        channel_count = img.shape[2]\n",
    "        ignore_mask_color = (255,)*channel_count\n",
    "    else:\n",
    "        ignore_mask_color = 255\n",
    "    \n",
    "    cv2.fillPoly(mask,vertices,ignore_mask_color)\n",
    "    masked_image = cv2.bitwise_and(img,mask)\n",
    "    return masked_image\n",
    "\n",
    "def avarage(line):\n",
    "    nl =[]\n",
    "    p =0\n",
    "    for i in range(len(line[0][0])):\n",
    "        for j in range(len(line)):\n",
    "            p = p + line[j][0][i]  \n",
    "        nl.append(p/len(line))\n",
    "        p=0\n",
    "    return list(map(int,nl))\n",
    "    \n",
    "def draw_lines(img,lines,color=[255,0,0],thickness = 12):\n",
    "    rg1 =[]\n",
    "    rg2 =[]\n",
    "    lf1 = []\n",
    "    lf2  =[] \n",
    "    for line in lines:         \n",
    "        for x1,y1,x2,y2 in line:          \n",
    "            a = ((y2-y1)/(x2-x1))   \n",
    "            \n",
    "            #right\n",
    "            if a>0:\n",
    "                if x2< 500:\n",
    "                    pass\n",
    "                else:\n",
    "                    rg1.append(line)                \n",
    "            #left\n",
    "            else:\n",
    "                lf1.append(line)\n",
    "\n",
    "    rg2 = avarage(rg1)\n",
    "    a = ((rg2[3]-rg2[1])/(rg2[2]-rg2[0]))\n",
    "    b = rg2[3]-a*rg2[2]\n",
    "    rg2[0]=530\n",
    "    rg2[2] = 960\n",
    "    cv2.line(img,(rg2[0],int(rg2[0]*a+b)),(rg2[2],int(rg2[2]*a+b)),color,thickness)\n",
    "    \n",
    "    lf2 = avarage(lf1)\n",
    "    a = ((lf2[3]-lf2[1])/(lf2[2]-lf2[0]))\n",
    "    b = lf2[3]-a*lf2[2]\n",
    "    lf2[2] = 430\n",
    "    cv2.line(img,(0,lf2[1]-int(a*lf2[0])),(lf2[2],int(lf2[2]*a+b)),color,thickness)                \n",
    "\n",
    "def hough_lines(img,rho,theta,threshold,min_line_len,max_line_gap):\n",
    "    lines = cv2.HoughLinesP(img,rho,theta,threshold,np.array([]),minLineLength = min_line_len, maxLineGap = max_line_gap)\n",
    "    line_img = np.zeros((img.shape[0],img.shape[1],3), dtype = np.uint8)\n",
    "    draw_lines(line_img,lines)\n",
    "    return line_img\n",
    "\n",
    "def weighted_img(img, initial_img, alpha = 0.8, beta = 1. , gama = 0):\n",
    "    return cv2.addWeighted(initial_img, alpha, img, beta, gama)\n",
    "\n",
    "# image = mpimg.imread('test_images/whiteCarLaneSwitch.jpg')\n",
    "# final = process_image(image)\n",
    "# plt.imshow(final, cmap='gray')\n",
    "# plt.show()\n",
    "\n",
    "white_output = 'test_videos_output/solidWhiteRight.mp4'\n",
    "clip1 = VideoFileClip('test_videos/solidWhiteRight.mp4')\n",
    "white_clip = clip1.fl_image(process_image)\n",
    "%time white_clip.write_videofile(white_output, audio = False)\n",
    "HTML(\"\"\"\n",
    "<video width=\"960\" height=\"540\" controls>\n",
    "  <source src=\"{0}\">\n",
    "</video>\n",
    "\"\"\".format(white_output))\n"
   ]
  },
  {
   "cell_type": "markdown",
   "metadata": {},
   "source": []
  },
  {
   "cell_type": "code",
   "execution_count": null,
   "metadata": {},
   "outputs": [],
   "source": []
  }
 ],
 "metadata": {
  "kernelspec": {
   "display_name": "Python [conda env:root] *",
   "language": "python",
   "name": "conda-root-py"
  },
  "language_info": {
   "codemirror_mode": {
    "name": "ipython",
    "version": 3
   },
   "file_extension": ".py",
   "mimetype": "text/x-python",
   "name": "python",
   "nbconvert_exporter": "python",
   "pygments_lexer": "ipython3",
   "version": "3.7.1"
  }
 },
 "nbformat": 4,
 "nbformat_minor": 2
}
